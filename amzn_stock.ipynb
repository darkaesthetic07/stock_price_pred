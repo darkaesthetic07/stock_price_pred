{
  "nbformat": 4,
  "nbformat_minor": 0,
  "metadata": {
    "colab": {
      "name": "amzn stock.ipynb",
      "provenance": [],
      "collapsed_sections": [],
      "authorship_tag": "ABX9TyP3/sJivs1GWG0hymRf8PyP",
      "include_colab_link": true
    },
    "kernelspec": {
      "name": "python3",
      "display_name": "Python 3"
    },
    "language_info": {
      "name": "python"
    }
  },
  "cells": [
    {
      "cell_type": "markdown",
      "metadata": {
        "id": "view-in-github",
        "colab_type": "text"
      },
      "source": [
        "<a href=\"https://colab.research.google.com/github/darkaesthetic07/stock_price_pred/blob/main/amzn_stock.ipynb\" target=\"_parent\"><img src=\"https://colab.research.google.com/assets/colab-badge.svg\" alt=\"Open In Colab\"/></a>"
      ]
    },
    {
      "cell_type": "code",
      "metadata": {
        "id": "ONrMvdIJGEQc"
      },
      "source": [
        "import pandas as pd\n",
        "import numpy as np\n",
        "import matplotlib.pyplot as plt\n",
        "import seaborn as sns\n",
        "%matplotlib inline"
      ],
      "execution_count": null,
      "outputs": []
    },
    {
      "cell_type": "code",
      "metadata": {
        "id": "XV3tnV45GivT"
      },
      "source": [
        "amzn_data = pd.read_csv(\"AMZN_dataset.csv\")"
      ],
      "execution_count": null,
      "outputs": []
    },
    {
      "cell_type": "code",
      "metadata": {
        "colab": {
          "base_uri": "https://localhost:8080/",
          "height": 203
        },
        "id": "5yAsIbeoH3yT",
        "outputId": "da76513c-283a-4166-cd3d-aab54c3c1e65"
      },
      "source": [
        "amzn_data.head()"
      ],
      "execution_count": null,
      "outputs": [
        {
          "output_type": "execute_result",
          "data": {
            "text/html": [
              "<div>\n",
              "<style scoped>\n",
              "    .dataframe tbody tr th:only-of-type {\n",
              "        vertical-align: middle;\n",
              "    }\n",
              "\n",
              "    .dataframe tbody tr th {\n",
              "        vertical-align: top;\n",
              "    }\n",
              "\n",
              "    .dataframe thead th {\n",
              "        text-align: right;\n",
              "    }\n",
              "</style>\n",
              "<table border=\"1\" class=\"dataframe\">\n",
              "  <thead>\n",
              "    <tr style=\"text-align: right;\">\n",
              "      <th></th>\n",
              "      <th>Date</th>\n",
              "      <th>Close/Last</th>\n",
              "      <th>Volume</th>\n",
              "      <th>Open</th>\n",
              "      <th>High</th>\n",
              "      <th>Low</th>\n",
              "    </tr>\n",
              "  </thead>\n",
              "  <tbody>\n",
              "    <tr>\n",
              "      <th>0</th>\n",
              "      <td>06-09-2021</td>\n",
              "      <td>$3281.15</td>\n",
              "      <td>2455530</td>\n",
              "      <td>$3272.87</td>\n",
              "      <td>$3297.58</td>\n",
              "      <td>$3270.7</td>\n",
              "    </tr>\n",
              "    <tr>\n",
              "      <th>1</th>\n",
              "      <td>06-08-2021</td>\n",
              "      <td>$3264.11</td>\n",
              "      <td>3416730</td>\n",
              "      <td>$3222.61</td>\n",
              "      <td>$3279.5321</td>\n",
              "      <td>$3218.01</td>\n",
              "    </tr>\n",
              "    <tr>\n",
              "      <th>2</th>\n",
              "      <td>06-07-2021</td>\n",
              "      <td>$3198.01</td>\n",
              "      <td>2215756</td>\n",
              "      <td>$3197.33</td>\n",
              "      <td>$3208</td>\n",
              "      <td>$3172.2</td>\n",
              "    </tr>\n",
              "    <tr>\n",
              "      <th>3</th>\n",
              "      <td>06-04-2021</td>\n",
              "      <td>$3206.22</td>\n",
              "      <td>2249749</td>\n",
              "      <td>$3212</td>\n",
              "      <td>$3221</td>\n",
              "      <td>$3198.81</td>\n",
              "    </tr>\n",
              "    <tr>\n",
              "      <th>4</th>\n",
              "      <td>06-03-2021</td>\n",
              "      <td>$3187.01</td>\n",
              "      <td>2398293</td>\n",
              "      <td>$3204.23</td>\n",
              "      <td>$3214.435</td>\n",
              "      <td>$3184.03</td>\n",
              "    </tr>\n",
              "  </tbody>\n",
              "</table>\n",
              "</div>"
            ],
            "text/plain": [
              "         Date Close/Last   Volume      Open        High       Low\n",
              "0  06-09-2021   $3281.15  2455530  $3272.87    $3297.58   $3270.7\n",
              "1  06-08-2021   $3264.11  3416730  $3222.61  $3279.5321  $3218.01\n",
              "2  06-07-2021   $3198.01  2215756  $3197.33       $3208   $3172.2\n",
              "3  06-04-2021   $3206.22  2249749     $3212       $3221  $3198.81\n",
              "4  06-03-2021   $3187.01  2398293  $3204.23   $3214.435  $3184.03"
            ]
          },
          "metadata": {
            "tags": []
          },
          "execution_count": 39
        }
      ]
    },
    {
      "cell_type": "code",
      "metadata": {
        "colab": {
          "base_uri": "https://localhost:8080/",
          "height": 295
        },
        "id": "V81RkJbnKi4J",
        "outputId": "0045d584-af2a-44cb-d873-04deac172621"
      },
      "source": [
        "amzn_data.describe()"
      ],
      "execution_count": null,
      "outputs": [
        {
          "output_type": "execute_result",
          "data": {
            "text/html": [
              "<div>\n",
              "<style scoped>\n",
              "    .dataframe tbody tr th:only-of-type {\n",
              "        vertical-align: middle;\n",
              "    }\n",
              "\n",
              "    .dataframe tbody tr th {\n",
              "        vertical-align: top;\n",
              "    }\n",
              "\n",
              "    .dataframe thead th {\n",
              "        text-align: right;\n",
              "    }\n",
              "</style>\n",
              "<table border=\"1\" class=\"dataframe\">\n",
              "  <thead>\n",
              "    <tr style=\"text-align: right;\">\n",
              "      <th></th>\n",
              "      <th>Volume</th>\n",
              "    </tr>\n",
              "  </thead>\n",
              "  <tbody>\n",
              "    <tr>\n",
              "      <th>count</th>\n",
              "      <td>2.516000e+03</td>\n",
              "    </tr>\n",
              "    <tr>\n",
              "      <th>mean</th>\n",
              "      <td>4.207630e+06</td>\n",
              "    </tr>\n",
              "    <tr>\n",
              "      <th>std</th>\n",
              "      <td>2.295011e+06</td>\n",
              "    </tr>\n",
              "    <tr>\n",
              "      <th>min</th>\n",
              "      <td>8.813370e+05</td>\n",
              "    </tr>\n",
              "    <tr>\n",
              "      <th>25%</th>\n",
              "      <td>2.737498e+06</td>\n",
              "    </tr>\n",
              "    <tr>\n",
              "      <th>50%</th>\n",
              "      <td>3.615334e+06</td>\n",
              "    </tr>\n",
              "    <tr>\n",
              "      <th>75%</th>\n",
              "      <td>4.936622e+06</td>\n",
              "    </tr>\n",
              "    <tr>\n",
              "      <th>max</th>\n",
              "      <td>2.412413e+07</td>\n",
              "    </tr>\n",
              "  </tbody>\n",
              "</table>\n",
              "</div>"
            ],
            "text/plain": [
              "             Volume\n",
              "count  2.516000e+03\n",
              "mean   4.207630e+06\n",
              "std    2.295011e+06\n",
              "min    8.813370e+05\n",
              "25%    2.737498e+06\n",
              "50%    3.615334e+06\n",
              "75%    4.936622e+06\n",
              "max    2.412413e+07"
            ]
          },
          "metadata": {
            "tags": []
          },
          "execution_count": 40
        }
      ]
    },
    {
      "cell_type": "code",
      "metadata": {
        "colab": {
          "base_uri": "https://localhost:8080/"
        },
        "id": "MeoivLCROESW",
        "outputId": "3276dc94-5286-4da0-b335-ceb8e0a54ce2"
      },
      "source": [
        "amzn_data.columns"
      ],
      "execution_count": null,
      "outputs": [
        {
          "output_type": "execute_result",
          "data": {
            "text/plain": [
              "Index(['Date', 'Close/Last', 'Volume', 'Open', 'High', 'Low'], dtype='object')"
            ]
          },
          "metadata": {
            "tags": []
          },
          "execution_count": 41
        }
      ]
    },
    {
      "cell_type": "code",
      "metadata": {
        "colab": {
          "base_uri": "https://localhost:8080/"
        },
        "id": "_i_EmKHQPOiA",
        "outputId": "98453a10-ed76-4052-8a94-d0ab472f59f4"
      },
      "source": [
        "amzn_data.nunique()"
      ],
      "execution_count": null,
      "outputs": [
        {
          "output_type": "execute_result",
          "data": {
            "text/plain": [
              "Date          2516\n",
              "Close/Last    2487\n",
              "Volume        2515\n",
              "Open          2428\n",
              "High          2455\n",
              "Low           2467\n",
              "dtype: int64"
            ]
          },
          "metadata": {
            "tags": []
          },
          "execution_count": 42
        }
      ]
    },
    {
      "cell_type": "code",
      "metadata": {
        "colab": {
          "base_uri": "https://localhost:8080/"
        },
        "id": "KhuZlznyPfVN",
        "outputId": "f3c9f7cd-9716-487b-ba7b-3fd2704ce3c9"
      },
      "source": [
        "amzn_data['Close/Last'].unique()"
      ],
      "execution_count": null,
      "outputs": [
        {
          "output_type": "execute_result",
          "data": {
            "text/plain": [
              "array(['$3281.15', '$3264.11', '$3198.01', ..., '$189.96', '$186.29',\n",
              "       '$186.53'], dtype=object)"
            ]
          },
          "metadata": {
            "tags": []
          },
          "execution_count": 43
        }
      ]
    },
    {
      "cell_type": "code",
      "metadata": {
        "colab": {
          "base_uri": "https://localhost:8080/"
        },
        "id": "zTeukbbDTdQ2",
        "outputId": "3d446efe-d192-4585-fc65-573570a5c67d"
      },
      "source": [
        "amzn_data.dtypes"
      ],
      "execution_count": null,
      "outputs": [
        {
          "output_type": "execute_result",
          "data": {
            "text/plain": [
              "Date          object\n",
              "Close/Last    object\n",
              "Volume         int64\n",
              "Open          object\n",
              "High          object\n",
              "Low           object\n",
              "dtype: object"
            ]
          },
          "metadata": {
            "tags": []
          },
          "execution_count": 44
        }
      ]
    },
    {
      "cell_type": "code",
      "metadata": {
        "colab": {
          "base_uri": "https://localhost:8080/"
        },
        "id": "ivPqjzCiQETO",
        "outputId": "72c8801d-5d04-454d-bc40-ad6517c7de25"
      },
      "source": [
        "amzn_data.isnull().sum()"
      ],
      "execution_count": null,
      "outputs": [
        {
          "output_type": "execute_result",
          "data": {
            "text/plain": [
              "Date          0\n",
              "Close/Last    0\n",
              "Volume        0\n",
              "Open          0\n",
              "High          0\n",
              "Low           0\n",
              "dtype: int64"
            ]
          },
          "metadata": {
            "tags": []
          },
          "execution_count": 45
        }
      ]
    },
    {
      "cell_type": "code",
      "metadata": {
        "id": "Ia6UvVPyRBLO"
      },
      "source": [
        "amzn_data['Date']=pd.to_datetime(amzn_data.Date)"
      ],
      "execution_count": null,
      "outputs": []
    },
    {
      "cell_type": "code",
      "metadata": {
        "colab": {
          "base_uri": "https://localhost:8080/",
          "height": 203
        },
        "id": "n9GHNqYXUjj-",
        "outputId": "e0cd3958-a4a3-4f9a-b332-4488b6684971"
      },
      "source": [
        "amzn_data.head()"
      ],
      "execution_count": null,
      "outputs": [
        {
          "output_type": "execute_result",
          "data": {
            "text/html": [
              "<div>\n",
              "<style scoped>\n",
              "    .dataframe tbody tr th:only-of-type {\n",
              "        vertical-align: middle;\n",
              "    }\n",
              "\n",
              "    .dataframe tbody tr th {\n",
              "        vertical-align: top;\n",
              "    }\n",
              "\n",
              "    .dataframe thead th {\n",
              "        text-align: right;\n",
              "    }\n",
              "</style>\n",
              "<table border=\"1\" class=\"dataframe\">\n",
              "  <thead>\n",
              "    <tr style=\"text-align: right;\">\n",
              "      <th></th>\n",
              "      <th>Date</th>\n",
              "      <th>Close/Last</th>\n",
              "      <th>Volume</th>\n",
              "      <th>Open</th>\n",
              "      <th>High</th>\n",
              "      <th>Low</th>\n",
              "    </tr>\n",
              "  </thead>\n",
              "  <tbody>\n",
              "    <tr>\n",
              "      <th>0</th>\n",
              "      <td>2021-06-09</td>\n",
              "      <td>$3281.15</td>\n",
              "      <td>2455530</td>\n",
              "      <td>$3272.87</td>\n",
              "      <td>$3297.58</td>\n",
              "      <td>$3270.7</td>\n",
              "    </tr>\n",
              "    <tr>\n",
              "      <th>1</th>\n",
              "      <td>2021-06-08</td>\n",
              "      <td>$3264.11</td>\n",
              "      <td>3416730</td>\n",
              "      <td>$3222.61</td>\n",
              "      <td>$3279.5321</td>\n",
              "      <td>$3218.01</td>\n",
              "    </tr>\n",
              "    <tr>\n",
              "      <th>2</th>\n",
              "      <td>2021-06-07</td>\n",
              "      <td>$3198.01</td>\n",
              "      <td>2215756</td>\n",
              "      <td>$3197.33</td>\n",
              "      <td>$3208</td>\n",
              "      <td>$3172.2</td>\n",
              "    </tr>\n",
              "    <tr>\n",
              "      <th>3</th>\n",
              "      <td>2021-06-04</td>\n",
              "      <td>$3206.22</td>\n",
              "      <td>2249749</td>\n",
              "      <td>$3212</td>\n",
              "      <td>$3221</td>\n",
              "      <td>$3198.81</td>\n",
              "    </tr>\n",
              "    <tr>\n",
              "      <th>4</th>\n",
              "      <td>2021-06-03</td>\n",
              "      <td>$3187.01</td>\n",
              "      <td>2398293</td>\n",
              "      <td>$3204.23</td>\n",
              "      <td>$3214.435</td>\n",
              "      <td>$3184.03</td>\n",
              "    </tr>\n",
              "  </tbody>\n",
              "</table>\n",
              "</div>"
            ],
            "text/plain": [
              "        Date Close/Last   Volume      Open        High       Low\n",
              "0 2021-06-09   $3281.15  2455530  $3272.87    $3297.58   $3270.7\n",
              "1 2021-06-08   $3264.11  3416730  $3222.61  $3279.5321  $3218.01\n",
              "2 2021-06-07   $3198.01  2215756  $3197.33       $3208   $3172.2\n",
              "3 2021-06-04   $3206.22  2249749     $3212       $3221  $3198.81\n",
              "4 2021-06-03   $3187.01  2398293  $3204.23   $3214.435  $3184.03"
            ]
          },
          "metadata": {
            "tags": []
          },
          "execution_count": 47
        }
      ]
    },
    {
      "cell_type": "code",
      "metadata": {
        "colab": {
          "base_uri": "https://localhost:8080/"
        },
        "id": "cPqo49d6UojD",
        "outputId": "cd234716-7e91-4bd0-ef58-3abd6d513b56"
      },
      "source": [
        "amzn_data.dtypes"
      ],
      "execution_count": null,
      "outputs": [
        {
          "output_type": "execute_result",
          "data": {
            "text/plain": [
              "Date          datetime64[ns]\n",
              "Close/Last            object\n",
              "Volume                 int64\n",
              "Open                  object\n",
              "High                  object\n",
              "Low                   object\n",
              "dtype: object"
            ]
          },
          "metadata": {
            "tags": []
          },
          "execution_count": 48
        }
      ]
    },
    {
      "cell_type": "code",
      "metadata": {
        "id": "JyayH6h9Uuu5"
      },
      "source": [
        "for i in amzn_data.columns.to_list():\n",
        "    if i not in [\"Volume\",'Date']:\n",
        "        amzn_data[i]=amzn_data[i].apply(lambda i:i.replace('$','')).astype(float)"
      ],
      "execution_count": null,
      "outputs": []
    },
    {
      "cell_type": "code",
      "metadata": {
        "colab": {
          "base_uri": "https://localhost:8080/"
        },
        "id": "6hOk6IRKVj1g",
        "outputId": "6db836e0-abf3-491a-8f2e-2d4d8fafcca1"
      },
      "source": [
        "amzn_data.dtypes"
      ],
      "execution_count": null,
      "outputs": [
        {
          "output_type": "execute_result",
          "data": {
            "text/plain": [
              "Date          datetime64[ns]\n",
              "Close/Last           float64\n",
              "Volume                 int64\n",
              "Open                 float64\n",
              "High                 float64\n",
              "Low                  float64\n",
              "dtype: object"
            ]
          },
          "metadata": {
            "tags": []
          },
          "execution_count": 50
        }
      ]
    },
    {
      "cell_type": "code",
      "metadata": {
        "colab": {
          "base_uri": "https://localhost:8080/",
          "height": 350
        },
        "id": "4OOFeZmfVl4I",
        "outputId": "6f25881f-21d8-41fc-b4b6-4212de72827b"
      },
      "source": [
        "sns.boxplot(amzn_data['Volume'],whis=3)"
      ],
      "execution_count": null,
      "outputs": [
        {
          "output_type": "stream",
          "text": [
            "/usr/local/lib/python3.7/dist-packages/seaborn/_decorators.py:43: FutureWarning: Pass the following variable as a keyword arg: x. From version 0.12, the only valid positional argument will be `data`, and passing other arguments without an explicit keyword will result in an error or misinterpretation.\n",
            "  FutureWarning\n"
          ],
          "name": "stderr"
        },
        {
          "output_type": "execute_result",
          "data": {
            "text/plain": [
              "<matplotlib.axes._subplots.AxesSubplot at 0x7fb77c0efe50>"
            ]
          },
          "metadata": {
            "tags": []
          },
          "execution_count": 51
        },
        {
          "output_type": "display_data",
          "data": {
            "image/png": "[encoded data removed]",
            "text/plain": [
              "<Figure size 432x288 with 1 Axes>"
            ]
          },
          "metadata": {
            "tags": [],
            "needs_background": "light"
          }
        }
      ]
    },
    {
      "cell_type": "code",
      "metadata": {
        "colab": {
          "base_uri": "https://localhost:8080/",
          "height": 350
        },
        "id": "HKNwGcoXWcne",
        "outputId": "bf975065-facb-4d87-dfbe-5d8aa3d592bf"
      },
      "source": [
        "sns.boxplot(amzn_data['Close/Last'],whis=3)"
      ],
      "execution_count": null,
      "outputs": [
        {
          "output_type": "stream",
          "text": [
            "/usr/local/lib/python3.7/dist-packages/seaborn/_decorators.py:43: FutureWarning: Pass the following variable as a keyword arg: x. From version 0.12, the only valid positional argument will be `data`, and passing other arguments without an explicit keyword will result in an error or misinterpretation.\n",
            "  FutureWarning\n"
          ],
          "name": "stderr"
        },
        {
          "output_type": "execute_result",
          "data": {
            "text/plain": [
              "<matplotlib.axes._subplots.AxesSubplot at 0x7fb77b909d90>"
            ]
          },
          "metadata": {
            "tags": []
          },
          "execution_count": 54
        },
        {
          "output_type": "display_data",
          "data": {
            "image/png": "[encoded data removed]",
            "text/plain": [
              "<Figure size 432x288 with 1 Axes>"
            ]
          },
          "metadata": {
            "tags": [],
            "needs_background": "light"
          }
        }
      ]
    },
    {
      "cell_type": "code",
      "metadata": {
        "id": "4iuUTLMIXC8q"
      },
      "source": [
        "#Removing outlier from volume\n",
        "iqr=np.quantile(amzn_data.Volume,0.75)-np.quantile(amzn_data.Volume,0.25)\n",
        "max_value=np.quantile(amzn_data.Volume,0.75)+3*iqr\n",
        "amzn_data.Volume=np.where(amzn_data.Volume>max_value,max_value,amzn_data.Volume)"
      ],
      "execution_count": null,
      "outputs": []
    },
    {
      "cell_type": "code",
      "metadata": {
        "colab": {
          "base_uri": "https://localhost:8080/",
          "height": 350
        },
        "id": "XlzuhoYQXlA5",
        "outputId": "28ec5fb8-695d-46dc-bf3c-d4b906c29b77"
      },
      "source": [
        "sns.boxplot(amzn_data['Volume'],whis=3)"
      ],
      "execution_count": null,
      "outputs": [
        {
          "output_type": "stream",
          "text": [
            "/usr/local/lib/python3.7/dist-packages/seaborn/_decorators.py:43: FutureWarning: Pass the following variable as a keyword arg: x. From version 0.12, the only valid positional argument will be `data`, and passing other arguments without an explicit keyword will result in an error or misinterpretation.\n",
            "  FutureWarning\n"
          ],
          "name": "stderr"
        },
        {
          "output_type": "execute_result",
          "data": {
            "text/plain": [
              "<matplotlib.axes._subplots.AxesSubplot at 0x7fb77b802890>"
            ]
          },
          "metadata": {
            "tags": []
          },
          "execution_count": 56
        },
        {
          "output_type": "display_data",
          "data": {
            "image/png": "[encoded data removed]",
            "text/plain": [
              "<Figure size 432x288 with 1 Axes>"
            ]
          },
          "metadata": {
            "tags": [],
            "needs_background": "light"
          }
        }
      ]
    },
    {
      "cell_type": "code",
      "metadata": {
        "colab": {
          "base_uri": "https://localhost:8080/",
          "height": 350
        },
        "id": "4Wu-JmcoXoH8",
        "outputId": "f5bb1374-8b10-4476-9940-4854be0b64a3"
      },
      "source": [
        "sns.boxplot(amzn_data['Open'],whis=3)"
      ],
      "execution_count": null,
      "outputs": [
        {
          "output_type": "stream",
          "text": [
            "/usr/local/lib/python3.7/dist-packages/seaborn/_decorators.py:43: FutureWarning: Pass the following variable as a keyword arg: x. From version 0.12, the only valid positional argument will be `data`, and passing other arguments without an explicit keyword will result in an error or misinterpretation.\n",
            "  FutureWarning\n"
          ],
          "name": "stderr"
        },
        {
          "output_type": "execute_result",
          "data": {
            "text/plain": [
              "<matplotlib.axes._subplots.AxesSubplot at 0x7fb77a55dd10>"
            ]
          },
          "metadata": {
            "tags": []
          },
          "execution_count": 57
        },
        {
          "output_type": "display_data",
          "data": {
            "image/png": "[encoded data removed]",
            "text/plain": [
              "<Figure size 432x288 with 1 Axes>"
            ]
          },
          "metadata": {
            "tags": [],
            "needs_background": "light"
          }
        }
      ]
    },
    {
      "cell_type": "code",
      "metadata": {
        "colab": {
          "base_uri": "https://localhost:8080/",
          "height": 350
        },
        "id": "DaK67oBwY5ET",
        "outputId": "5d2ba6a3-daa1-4c96-ee0b-b8344b70b71f"
      },
      "source": [
        "sns.boxplot(amzn_data['High'],whis=3)"
      ],
      "execution_count": null,
      "outputs": [
        {
          "output_type": "stream",
          "text": [
            "/usr/local/lib/python3.7/dist-packages/seaborn/_decorators.py:43: FutureWarning: Pass the following variable as a keyword arg: x. From version 0.12, the only valid positional argument will be `data`, and passing other arguments without an explicit keyword will result in an error or misinterpretation.\n",
            "  FutureWarning\n"
          ],
          "name": "stderr"
        },
        {
          "output_type": "execute_result",
          "data": {
            "text/plain": [
              "<matplotlib.axes._subplots.AxesSubplot at 0x7fb77a4b9350>"
            ]
          },
          "metadata": {
            "tags": []
          },
          "execution_count": 58
        },
        {
          "output_type": "display_data",
          "data": {
            "image/png": "[encoded data removed]",
            "text/plain": [
              "<Figure size 432x288 with 1 Axes>"
            ]
          },
          "metadata": {
            "tags": [],
            "needs_background": "light"
          }
        }
      ]
    },
    {
      "cell_type": "code",
      "metadata": {
        "colab": {
          "base_uri": "https://localhost:8080/",
          "height": 350
        },
        "id": "YtXUyPwmY87S",
        "outputId": "277c44d7-4382-4f80-a7ec-b53337b1d92e"
      },
      "source": [
        "sns.boxplot(amzn_data['Low'],whis=3)"
      ],
      "execution_count": null,
      "outputs": [
        {
          "output_type": "stream",
          "text": [
            "/usr/local/lib/python3.7/dist-packages/seaborn/_decorators.py:43: FutureWarning: Pass the following variable as a keyword arg: x. From version 0.12, the only valid positional argument will be `data`, and passing other arguments without an explicit keyword will result in an error or misinterpretation.\n",
            "  FutureWarning\n"
          ],
          "name": "stderr"
        },
        {
          "output_type": "execute_result",
          "data": {
            "text/plain": [
              "<matplotlib.axes._subplots.AxesSubplot at 0x7fb77a495f90>"
            ]
          },
          "metadata": {
            "tags": []
          },
          "execution_count": 59
        },
        {
          "output_type": "display_data",
          "data": {
            "image/png": "[encoded data removed]",
            "text/plain": [
              "<Figure size 432x288 with 1 Axes>"
            ]
          },
          "metadata": {
            "tags": [],
            "needs_background": "light"
          }
        }
      ]
    },
    {
      "cell_type": "code",
      "metadata": {
        "colab": {
          "base_uri": "https://localhost:8080/",
          "height": 350
        },
        "id": "FPh8w2y9ZCzr",
        "outputId": "e4764625-e074-4d5c-9b11-7a136e0006d8"
      },
      "source": [
        "#checking the distribution of \"Close Price\"\n",
        "sns.distplot(amzn_data['Close/Last'])"
      ],
      "execution_count": null,
      "outputs": [
        {
          "output_type": "stream",
          "text": [
            "/usr/local/lib/python3.7/dist-packages/seaborn/distributions.py:2557: FutureWarning: `distplot` is a deprecated function and will be removed in a future version. Please adapt your code to use either `displot` (a figure-level function with similar flexibility) or `histplot` (an axes-level function for histograms).\n",
            "  warnings.warn(msg, FutureWarning)\n"
          ],
          "name": "stderr"
        },
        {
          "output_type": "execute_result",
          "data": {
            "text/plain": [
              "<matplotlib.axes._subplots.AxesSubplot at 0x7fb77c1b3cd0>"
            ]
          },
          "metadata": {
            "tags": []
          },
          "execution_count": 62
        },
        {
          "output_type": "display_data",
          "data": {
            "image/png": "[encoded data removed]",
            "text/plain": [
              "<Figure size 432x288 with 1 Axes>"
            ]
          },
          "metadata": {
            "tags": [],
            "needs_background": "light"
          }
        }
      ]
    },
    {
      "cell_type": "code",
      "metadata": {
        "colab": {
          "base_uri": "https://localhost:8080/",
          "height": 203
        },
        "id": "WM1n-3Y7ZY_C",
        "outputId": "f3d7c874-66f7-43b6-8fe0-286824f8b6c9"
      },
      "source": [
        "#checking correlation\n",
        "amzn_data.corr()"
      ],
      "execution_count": null,
      "outputs": [
        {
          "output_type": "execute_result",
          "data": {
            "text/html": [
              "<div>\n",
              "<style scoped>\n",
              "    .dataframe tbody tr th:only-of-type {\n",
              "        vertical-align: middle;\n",
              "    }\n",
              "\n",
              "    .dataframe tbody tr th {\n",
              "        vertical-align: top;\n",
              "    }\n",
              "\n",
              "    .dataframe thead th {\n",
              "        text-align: right;\n",
              "    }\n",
              "</style>\n",
              "<table border=\"1\" class=\"dataframe\">\n",
              "  <thead>\n",
              "    <tr style=\"text-align: right;\">\n",
              "      <th></th>\n",
              "      <th>Close/Last</th>\n",
              "      <th>Volume</th>\n",
              "      <th>Open</th>\n",
              "      <th>High</th>\n",
              "      <th>Low</th>\n",
              "    </tr>\n",
              "  </thead>\n",
              "  <tbody>\n",
              "    <tr>\n",
              "      <th>Close/Last</th>\n",
              "      <td>1.000000</td>\n",
              "      <td>0.080565</td>\n",
              "      <td>0.999710</td>\n",
              "      <td>0.999857</td>\n",
              "      <td>0.999869</td>\n",
              "    </tr>\n",
              "    <tr>\n",
              "      <th>Volume</th>\n",
              "      <td>0.080565</td>\n",
              "      <td>1.000000</td>\n",
              "      <td>0.081678</td>\n",
              "      <td>0.086143</td>\n",
              "      <td>0.075344</td>\n",
              "    </tr>\n",
              "    <tr>\n",
              "      <th>Open</th>\n",
              "      <td>0.999710</td>\n",
              "      <td>0.081678</td>\n",
              "      <td>1.000000</td>\n",
              "      <td>0.999881</td>\n",
              "      <td>0.999835</td>\n",
              "    </tr>\n",
              "    <tr>\n",
              "      <th>High</th>\n",
              "      <td>0.999857</td>\n",
              "      <td>0.086143</td>\n",
              "      <td>0.999881</td>\n",
              "      <td>1.000000</td>\n",
              "      <td>0.999801</td>\n",
              "    </tr>\n",
              "    <tr>\n",
              "      <th>Low</th>\n",
              "      <td>0.999869</td>\n",
              "      <td>0.075344</td>\n",
              "      <td>0.999835</td>\n",
              "      <td>0.999801</td>\n",
              "      <td>1.000000</td>\n",
              "    </tr>\n",
              "  </tbody>\n",
              "</table>\n",
              "</div>"
            ],
            "text/plain": [
              "            Close/Last    Volume      Open      High       Low\n",
              "Close/Last    1.000000  0.080565  0.999710  0.999857  0.999869\n",
              "Volume        0.080565  1.000000  0.081678  0.086143  0.075344\n",
              "Open          0.999710  0.081678  1.000000  0.999881  0.999835\n",
              "High          0.999857  0.086143  0.999881  1.000000  0.999801\n",
              "Low           0.999869  0.075344  0.999835  0.999801  1.000000"
            ]
          },
          "metadata": {
            "tags": []
          },
          "execution_count": 63
        }
      ]
    },
    {
      "cell_type": "code",
      "metadata": {
        "id": "OHYZjg0-aPCL"
      },
      "source": [
        "#setting date time as index\n",
        "df2=amzn_data.set_index(\"Date\")"
      ],
      "execution_count": null,
      "outputs": []
    },
    {
      "cell_type": "code",
      "metadata": {
        "id": "nGl7UoOubJTp"
      },
      "source": [
        "#Sorting the dataset based on ascending order of dates\n",
        "df2.sort_values('Date',inplace=True)"
      ],
      "execution_count": null,
      "outputs": []
    },
    {
      "cell_type": "code",
      "metadata": {
        "colab": {
          "base_uri": "https://localhost:8080/",
          "height": 516
        },
        "id": "qZC8VR61bPQ8",
        "outputId": "f4db0b82-3bef-4a33-8463-91ac13a0ccf5"
      },
      "source": [
        "plt.figure(figsize=(16,8))\n",
        "plt.plot(df2['Close/Last'], label='Close Price history')\n",
        "plt.title('Close Price history')"
      ],
      "execution_count": null,
      "outputs": [
        {
          "output_type": "execute_result",
          "data": {
            "text/plain": [
              "Text(0.5, 1.0, 'Close Price history')"
            ]
          },
          "metadata": {
            "tags": []
          },
          "execution_count": 68
        },
        {
          "output_type": "display_data",
          "data": {
            "image/png": "[encoded data removed]",
            "text/plain": [
              "<Figure size 1152x576 with 1 Axes>"
            ]
          },
          "metadata": {
            "tags": [],
            "needs_background": "light"
          }
        }
      ]
    },
    {
      "cell_type": "code",
      "metadata": {
        "id": "cjZc3YCIcSBZ",
        "colab": {
          "base_uri": "https://localhost:8080/",
          "height": 516
        },
        "outputId": "b3937ce3-c423-472f-cb13-b588eb322b8e"
      },
      "source": [
        "plt.figure(figsize=(16,8))\n",
        "plt.plot(df2['Open'], label='Open Price history')\n",
        "plt.title('Open Price history')"
      ],
      "execution_count": 69,
      "outputs": [
        {
          "output_type": "execute_result",
          "data": {
            "text/plain": [
              "Text(0.5, 1.0, 'Open Price history')"
            ]
          },
          "metadata": {
            "tags": []
          },
          "execution_count": 69
        },
        {
          "output_type": "display_data",
          "data": {
            "image/png": "[encoded data removed]",
            "text/plain": [
              "<Figure size 1152x576 with 1 Axes>"
            ]
          },
          "metadata": {
            "tags": [],
            "needs_background": "light"
          }
        }
      ]
    },
    {
      "cell_type": "code",
      "metadata": {
        "id": "i_rtP2j3dK-G"
      },
      "source": [
        ""
      ],
      "execution_count": null,
      "outputs": []
    }
  ]
}